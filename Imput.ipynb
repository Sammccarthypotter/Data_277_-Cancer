{
 "cells": [
  {
   "cell_type": "code",
   "execution_count": 24,
   "metadata": {},
   "outputs": [],
   "source": [
    "import pandas as pd\n",
    "import numpy as np"
   ]
  },
  {
   "cell_type": "code",
   "execution_count": null,
   "id": "44b7bfc4",
   "metadata": {},
   "outputs": [
    {
     "name": "stderr",
     "output_type": "stream",
     "text": [
      "C:\\Users\\smcca\\AppData\\Local\\Temp\\ipykernel_41968\\3637670875.py:1: DtypeWarning: Columns (0,3,4,5,6,7,9,12,15,16,17,18,22,24,26,28,29,30,40,65,66,67,68,69,70,71,72,73,74,75,76,82,83,89,90,91,92,93,96,97,98,99,100,101,102,103,104,105,106,107,108,109,115) have mixed types. Specify dtype option on import or set low_memory=False.\n",
      "  merged_df = pd.read_csv('final_merged.csv')\n"
     ]
    }
   ],
   "source": [
    "merged_df = pd.read_csv('final_merged.csv')\n",
    "harvard_df = pd.read_csv('harvardCellLines.csv')"
   ]
  },
  {
   "cell_type": "code",
   "execution_count": 28,
   "id": "596c34d8",
   "metadata": {},
   "outputs": [
    {
     "data": {
      "text/plain": [
       "Race\n",
       "1.0    8032\n",
       "2.0     658\n",
       "4.0     445\n",
       "5.0      29\n",
       "0.0      23\n",
       "3.0      19\n",
       "6.0      10\n",
       "8.0       5\n",
       "7.0       1\n",
       "Name: count, dtype: int64"
      ]
     },
     "execution_count": 28,
     "metadata": {},
     "output_type": "execute_result"
    }
   ],
   "source": [
    "merged_df['Race'].value_counts()"
   ]
  },
  {
   "cell_type": "code",
   "execution_count": 26,
   "id": "59aa079a",
   "metadata": {},
   "outputs": [],
   "source": [
    "import numpy as np\n",
    "\n",
    "# Get value counts as probabilities\n",
    "race_dist = merged_df['Race'].value_counts(normalize=True)\n",
    "\n",
    "# Get the indices where race is missing\n",
    "missing_indices = merged_df['Race'].isna()\n",
    "\n",
    "# Sample values based on observed distribution\n",
    "imputed_values = np.random.choice(race_dist.index, size=missing_indices.sum(), p=race_dist.values)\n",
    "\n",
    "# Assign the sampled values to the missing positions\n",
    "merged_df.loc[missing_indices, 'Race'] = imputed_values\n"
   ]
  },
  {
   "cell_type": "code",
   "execution_count": 32,
   "id": "8ab1eb0c",
   "metadata": {},
   "outputs": [
    {
     "data": {
      "text/plain": [
       "0"
      ]
     },
     "execution_count": 32,
     "metadata": {},
     "output_type": "execute_result"
    }
   ],
   "source": [
    "merged_df['Race'].isna().sum()"
   ]
  },
  {
   "cell_type": "code",
   "execution_count": 34,
   "id": "6e6b1921",
   "metadata": {},
   "outputs": [
    {
     "data": {
      "text/plain": [
       "0"
      ]
     },
     "execution_count": 34,
     "metadata": {},
     "output_type": "execute_result"
    }
   ],
   "source": [
    "merged_df['Age'].isna().sum()"
   ]
  },
  {
   "cell_type": "code",
   "execution_count": 95,
   "id": "8e4f905a",
   "metadata": {},
   "outputs": [
    {
     "data": {
      "text/plain": [
       "727"
      ]
     },
     "execution_count": 95,
     "metadata": {},
     "output_type": "execute_result"
    }
   ],
   "source": [
    "merged_df['T Stage'].isna().sum()"
   ]
  },
  {
   "cell_type": "code",
   "execution_count": 131,
   "id": "58255386",
   "metadata": {},
   "outputs": [],
   "source": [
    "def T_stage_by_size(size):\n",
    "    if size == 0:\n",
    "        return 0\n",
    "    if size > 0 and size <= 20:\n",
    "        return 1\n",
    "    if size > 20 and size <= 50:\n",
    "        return 2\n",
    "    if size > 50:\n",
    "        return 3"
   ]
  },
  {
   "cell_type": "code",
   "execution_count": 137,
   "id": "250bb929",
   "metadata": {},
   "outputs": [],
   "source": [
    "merged_df['T_stage_by_size'] = merged_df.apply(lambda row: row['T Stage'] if pd.notnull(row['T Stage']) else T_stage_by_size(row['Tumor Size']), axis=1)\n"
   ]
  },
  {
   "cell_type": "code",
   "execution_count": 138,
   "id": "345dd2e7",
   "metadata": {},
   "outputs": [
    {
     "data": {
      "text/plain": [
       "134"
      ]
     },
     "execution_count": 138,
     "metadata": {},
     "output_type": "execute_result"
    }
   ],
   "source": [
    "merged_df['T_stage_by_size'].isna().sum()"
   ]
  },
  {
   "cell_type": "code",
   "execution_count": 116,
   "id": "8c962ed3",
   "metadata": {},
   "outputs": [
    {
     "name": "stdout",
     "output_type": "stream",
     "text": [
      "      T_stage_by_size  Tumor Size\n",
      "230               1.0         4.0\n",
      "581               1.0         4.0\n",
      "621               1.0         4.0\n",
      "847               1.0         4.0\n",
      "898               1.0         4.0\n",
      "1264              1.0         4.0\n",
      "1310              1.0         4.0\n",
      "1424              3.0         4.0\n",
      "1463              1.0         4.0\n",
      "1673              1.0         4.0\n",
      "1681              1.0         4.0\n",
      "1764              3.0         4.0\n",
      "2512              1.0         4.0\n",
      "2854              1.0         4.0\n",
      "2945              1.0         4.0\n",
      "3489              1.0         4.0\n",
      "3577              1.0         4.0\n",
      "3641              1.0         4.0\n",
      "3934              1.0         4.0\n",
      "4196              1.0         4.0\n",
      "4250              1.0         4.0\n",
      "4315              1.0         4.0\n",
      "5278              1.0         4.0\n",
      "5332              1.0         4.0\n",
      "7090              1.0         4.0\n",
      "7829              1.0         4.0\n",
      "7946              1.0         4.0\n",
      "7961              1.0         4.0\n"
     ]
    }
   ],
   "source": [
    "filtered_df = merged_df[merged_df['Tumor Size'] == 4]\n",
    "\n",
    "# Print only 'Name' and 'City' columns\n",
    "print(filtered_df[['T_stage_by_size', 'Tumor Size']])"
   ]
  },
  {
   "cell_type": "code",
   "execution_count": null,
   "id": "529b8339",
   "metadata": {},
   "outputs": [],
   "source": [
    "\n",
    "merged_id_col = 'Patient ID'\n",
    "merged_age_col = 'Age'\n",
    "merged_race_col = 'Race'\n",
    "merged_T_stage_col = 'T Stage'\n",
    "harvard_id_col = 'HMS LINCS ID'\n",
    "harvard_age_col = 'Donor Age'\n",
    "harvard_race_col = 'Donor Ethnicity'\n",
    "harvard_T_stage_col = 'T Stage'\n",
    "\n",
    "patient_features = merged_df[[merged_id_col, merged_age_col, merged_T_stage_col]].copy()\n",
    "cellline_features = Harvard_cell_lines_df"
   ]
  }
 ],
 "metadata": {
  "kernelspec": {
   "display_name": "base",
   "language": "python",
   "name": "python3"
  },
  "language_info": {
   "codemirror_mode": {
    "name": "ipython",
    "version": 3
   },
   "file_extension": ".py",
   "mimetype": "text/x-python",
   "name": "python",
   "nbconvert_exporter": "python",
   "pygments_lexer": "ipython3",
   "version": "3.12.7"
  }
 },
 "nbformat": 4,
 "nbformat_minor": 5
}
