import pandas as pd
import numpy as np


pd.read_csv("data/HarvardCellLines.csv").head(2)


pd.read_csv("data/HarvardSmallMolecules.csv").head(3)


pd.read_csv('data/HarvardDataSet.csv')



