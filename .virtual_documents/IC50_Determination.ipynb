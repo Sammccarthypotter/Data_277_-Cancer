import pandas as pd
import matplotlib.pyplot as plt
import numpy as np

import numpy as np
from scipy.optimize import curve_fit
import warnings
import math
import seaborn as sns


Harvard_df = pd.read_csv('data/HarvardDataSet.csv')


Harvard_df


Harvard_subdf_IC50 = Harvard_df[["Cell Name", "Small Molecule Name", "Small Mol Concentration (uM)", "Mean Normalized Growth Rate Inhibition Value"]]


Harvard_subdf_IC50


Harvard_subdf_IC50.nunique()


# Check if any columns have NaNs
Harvard_subdf_IC50.isna().sum()


Harvard_subdf_IC50["Mean Normalized Growth Rate Inhibition Value"].describe()
# Values only range from 2.605 to -0.999


import pandas as pd
import numpy as np
from scipy.optimize import curve_fit
import warnings
from typing import Tuple, Optional
from tqdm import tqdm

class BatchEC50Calculator:
    def __init__(self):
        pass
        
    @staticmethod
    def four_param_logistic(x, bottom, top, logEC50, hill_slope):
        return bottom + (top - bottom) / (1 + 10**((logEC50 - np.log10(x)) * hill_slope))


    def calculate_ec50_single(self, concentrations, responses) -> Tuple[Optional[float], list]:
        """
        Fit a 4PL curve to a single concentration-response series.
    
        Returns:
            ec50: float (in µM) or None if fit fails
            popt: list of fitted parameters or [None]*4 if fitting fails
        """
        concentrations = np.array(concentrations)
        responses = np.array(responses)
    
        # Basic checks
        if (
            len(concentrations) < 4
            or np.any(np.isnan(concentrations))
            or np.any(np.isnan(responses))
            or np.any(concentrations <= 0)  # log10 can't handle zero/negative
        ):
            return None, [None] * 4
    
        # Check if responses are too flat
        if np.std(responses) < 1e-3 or len(np.unique(responses)) < 4:
            return None, [None] * 4
    
        # Initial guess: bottom, top, logEC50, hill_slope
        try:
            log_med_conc = np.log10(np.median(concentrations))
        except Exception:
            return None, [None] * 4
    
        p0 = [min(responses), max(responses), log_med_conc, 1.0]
    
        with warnings.catch_warnings():
            warnings.simplefilter("ignore")
            try:
                popt, _ = curve_fit(
                    self.four_param_logistic,
                    concentrations,
                    responses,
                    p0=p0,
                    maxfev=10000
                )
                # Validate popt (must be all real numbers)
                if popt is None or any(np.isnan(popt)):
                    return None, [None] * 4
    
                ec50 = 10 ** popt[2]  # Convert logEC50 to EC50
            except (RuntimeError, ValueError, TypeError, OverflowError):
                return None, [None] * 4
    
        return ec50, popt


    def calculate_all_ec50(self, df: pd.DataFrame, min_points: int = 4) -> pd.DataFrame:
        """
        Calculate EC50 for each (Cell Name, Small Molecule Name) pair in the dataframe.
        min_points: Minimum number of data points required to fit the curve.
        Returns:
            DataFrame with columns: Cell Name, Small Molecule Name, EC50
        """
        results = []

        grouped = df.groupby(["Cell Name", "Small Molecule Name"])
        print(f"Total unique cell-drug pairs: {len(grouped)}")

        for (cell, drug), group in tqdm(grouped, desc="Fitting curves"):
            concentrations = group["Small Mol Concentration (uM)"].values
            responses = group["Mean Normalized Growth Rate Inhibition Value"].values

            # Drop NaNs or invalid values
            mask = ~np.isnan(concentrations) & ~np.isnan(responses)
            concentrations = concentrations[mask]
            responses = responses[mask]

            if len(concentrations) < min_points:
                continue

            ec50, _ = self.calculate_ec50_single(concentrations, responses)
            results.append({
                "Cell Name": cell,
                "Small Molecule Name": drug,
                "EC50 (uM)": ec50,
                "N Points": len(concentrations),
            })

        return pd.DataFrame(results)


Harvard_subdf_IC50["Cell Name"] = Harvard_subdf_IC50["Cell Name"].str.strip()
Harvard_subdf_IC50["Small Molecule Name"] = Harvard_subdf_IC50["Small Molecule Name"].str.strip()

print("Expected:", 35 * 34)
print("Actual:", Harvard_subdf_IC50.groupby(["Cell Name", "Small Molecule Name"]).ngroups)


# Assuming your dataframe is named `df`:
# Columns: Cell Name, Small Molecule Name, Small Mol Concentration (uM), Mean Normalized Growth Rate Inhibition Value

calculator = BatchEC50Calculator()
ec50_results = calculator.calculate_all_ec50(Harvard_subdf_IC50)

print(ec50_results.head())



ec50_results


Harvard_subdf_IC50["Cell Name"].value_counts()


import matplotlib.pyplot as plt
import numpy as np

def plot_all_ic50_curves(df, calculator, extrapolate_factor=10):
    """
    Plots IC50 curves for all unique (Cell Name, Small Molecule Name) pairs in the dataframe.
    
    Parameters:
    - df: The input dataframe containing drug response data
    - calculator: An instance of the BatchEC50Calculator to calculate EC50 and curve fitting
    - extrapolate_factor: Factor by which to extrapolate concentration beyond the highest data point
    """
    # Group the data by Cell Name and Small Molecule Name
    grouped = df.groupby(["Cell Name", "Small Molecule Name"])

    plot_dict = {}
    
    # Loop through each group
    for (cell, drug), group in grouped:
        concentrations = group["Small Mol Concentration (uM)"].values
        responses = group["Mean Normalized Growth Rate Inhibition Value"].values
    
        # Safety checks
        if np.any(np.isnan(concentrations)) or np.any(np.isnan(responses)):
            print(f"Skipping {cell} - {drug}: NaNs in data.")
            continue
    
        ec50, popt = calculator.calculate_ec50_single(concentrations, responses)
    
        # NEW: check if fitting failed
        if ec50 is None or popt is None or any(p is None for p in popt):
            print(f"Skipping {cell} - {drug}: invalid fit.")
            continue
    
        plot = plot_ic50_curve(
            concentrations=concentrations,
            responses=responses,
            popt=popt,
            title=f"{cell} - {drug}",
            extrapolate_factor=extrapolate_factor
        )
    
        plot_dict[(cell, drug)] = plot
    return plot_dict

def plot_ic50_curve(concentrations, responses, popt, title="", show_ec50=True, extrapolate_factor=10):
    """
    Plot a 4PL IC50 curve with optional extrapolation to the right and dynamic Y-axis limits.
    
    Parameters:
    - concentrations: array-like, drug concentrations in µM
    - responses: array-like, normalized responses (e.g., viability or inhibition)
    - popt: fitted parameters from curve_fit
    - title: plot title
    - show_ec50: if True, plot vertical line at IC50
    - extrapolate_factor: how far to extrapolate beyond the max concentration
    """
    concentrations = np.array(concentrations)
    responses = np.array(responses)

    # Generate smooth x-axis range from the minimum concentration to an extrapolated maximum
    x_range = np.logspace(np.log10(min(concentrations)), np.log10(max(concentrations) * extrapolate_factor), 200)

    # Predict curve from fitted parameters
    y_fit = BatchEC50Calculator.four_param_logistic(x_range, *popt)

    # Compute IC50
    ec50 = 10 ** popt[2]

    # Create a new figure and axis
    fig, ax = plt.subplots(figsize=(7, 5))

    # Plot the observed data
    ax.semilogx(concentrations, responses, 'o', label='Observed Data')
    ax.semilogx(x_range, y_fit, '-', label='Fitted Curve', color='blue')

    # Plot IC50 if requested
    if show_ec50:
        ax.axvline(ec50, color='red', linestyle='--', label=f'IC50 ≈ {ec50:.3f} µM')

    # Dynamically adjust the Y-axis range
    y_min = min(responses) - 0.1
    y_max = max(responses) + 0.1
    ax.set_ylim([y_min, y_max])

    # Labels and title
    ax.set_xlabel("Concentration (µM)")
    ax.set_ylabel("Normalized Growth Rate Inhibition")
    ax.set_title(title)
    ax.legend()

    ax.grid(True, which='both', linestyle='--', linewidth=0.5)
    fig.tight_layout()

    return fig  # <-- Return the figure object



# Example usage: Plot IC50 curves for all combinations
calculator = BatchEC50Calculator()  # Your calculator instance
plot_dictionary = plot_all_ic50_curves(Harvard_subdf_IC50, calculator, extrapolate_factor=10)



plot_dictionary


from IPython.display import display

plot_for_bt20_abemaciclib = plot_dictionary[("T47D", "Torin2")]
display(plot_for_bt20_abemaciclib)







ec50_results["EC50 (uM)"]


condition1 = (ec50_results["EC50 (uM)"] < 10.0) & (ec50_results["EC50 (uM)"] > 0.001000)
IC50s_within_range = ec50_results[condition1]
print(f"Only {len(IC50s_within_range)} IC50 values are valid and within range of testing concentrations. This is ~{math.ceil(100*len(IC50s_within_range) / len(ec50_results))}% of the IC50 values.")


condition2 = (ec50_results["EC50 (uM)"] < 10.0)
IC50s_less_than10 = ec50_results[condition2]

print(f"{len(IC50s_less_than10) - len(IC50s_within_range) } chemicals are extremely potent.")


extremely_potent = pd.concat([IC50s_less_than10, IC50s_within_range])
extremely_potent = extremely_potent.drop_duplicates(keep=False)


print(len(extremely_potent))
extremely_potent


IC50s_within_range


pivot_table = IC50s_within_range.pivot_table(
    index='Small Molecule Name',
    columns='Cell Name',
    values='EC50 (uM)'
)
print("NOTE: Those with NaN values were filtered out. Their IC50 values were out of range (i.e. extrapolated and estimated). Should be 364 NaN values.")
print("NOTE: Those with NaN values were filtered out. Their IC50 values were too large (i.e. extrapolated and estimated if not potent). Should be 314 NaN values.")
pivot_table


pivot_table.isna().sum().sum() # Those with NaN values were filtered out. Their IC50 values could not be reliably calculated. 


idx = IC50s_within_range.groupby("Cell Name")["EC50 (uM)"].idxmin()
lowest_ic50_per_cell = IC50s_within_range.loc[idx].reset_index(drop=True)
lowest_ic50_per_cell


lowest_ic50_per_cell['Small Molecule Name'].value_counts()


IC50s_within_range


def plot_ic50drugs_per_cell_line(df):
    # Get unique cell lines and assign each to a number
    cell_lines = df["Cell Name"].unique()
    cell_to_x = {cell: i for i, cell in enumerate(cell_lines)}

    # Get unique drugs and assign a color to each
    drugs = df["Small Molecule Name"].unique()
    palette = sns.color_palette("hsv", len(drugs))  # Color palette for drugs
    drug_to_color = {drug: palette[i] for i, drug in enumerate(drugs)}

    plt.figure(figsize=(16, 7))

    # Plot each point with color coding by drug
    for _, row in df.iterrows():
        x = cell_to_x[row["Cell Name"]]
        y = row["EC50 (uM)"]
        drug = row["Small Molecule Name"]
        color = drug_to_color[drug]

        plt.scatter(x, y, color=color, s=30)

    # Set x-axis labels
    plt.xticks(ticks=range(len(cell_lines)), labels=cell_lines, rotation=90)

    # Use log scale for y-axis (IC50 values)
    plt.yscale("log")
    plt.ylabel("IC50 (uM) (log scale)")
    plt.xlabel("Cell Line")
    plt.title("Valid IC50 Values per Cell Line (Color-Coded by Drug)")

    # Create a legend for the drugs
    handles = [plt.Line2D([0], [0], marker='o', color='w', label=drug,
                          markerfacecolor=color, markersize=8)
               for drug, color in drug_to_color.items()]
    plt.legend(handles=handles, title="Drug", bbox_to_anchor=(1.05, 1), loc='upper left')

    plt.grid(True, which="both", linestyle="--", linewidth=0.5)
    plt.tight_layout()
    plt.show()


plot_ic50drugs_per_cell_line(IC50s_within_range)


# Subframes by cell line with good IC50 values
cell_line_subframes = {
    cell: group.reset_index(drop=True)
    for cell, group in IC50s_within_range.groupby("Cell Name")}



bt20_df = cell_line_subframes["BT-20"]
print(bt20_df)


# Model B - Choose the best chemical per patient (i.e., label each patient with the top-performing chemical based on IC50). Model tries to classify which drug would work best. 



IC50s_within_range.to_csv("valid_IC50s_within_range.csv")


from IPython.display import display

plot_for_bt20_abemaciclib = plot_dictionary[("T47D", "Torin2")]
display(plot_for_bt20_abemaciclib)


plot_for_bt20_abemaciclib = plot_dictionary[("CAL-51", "Taxol")]
display(plot_for_bt20_abemaciclib)


plot_dictionary[("CAL-120", "AZD7762")]


plot_dictionary[("HME1", "Ceritinib")]



