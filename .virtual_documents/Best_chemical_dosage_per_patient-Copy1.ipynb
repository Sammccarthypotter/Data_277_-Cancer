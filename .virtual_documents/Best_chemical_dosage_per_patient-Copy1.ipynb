


import pandas as pd
import numpy as np
import matplotlib.pyplot as plt
import seaborn as sns

valid_IC50s = pd.read_csv("valid_IC50s_within_range.csv")
merged_df = pd.read_csv("final_merged.csv")
lucas_df = pd.read_csv("final_mapping.csv")
cell_lines_df = pd.read_csv("data/HarvardCellLines.csv")


from rdkit import Chem
from rdkit.Chem import Draw
from rdkit.Chem import AllChem
from rdkit.Chem import DataStructs
from rdkit.Chem import rdMolDescriptors
from IPython.display import display, HTML


from rdkit.Chem import Descriptors 
from rdkit.Chem import MolFromSmiles
from rdkit import Chem
from rdkit.Chem import PandasTools
PandasTools.RenderImagesInAllDataFrames(True)


from rdkit.Chem import Lipinski


SmallMolecules = pd.read_csv("data/HarvardSmallMolecules.csv")


columns = ['Name', 'Molecular Mass', 'SMILES']
drugs_EDA = SmallMolecules[columns]


PandasTools.AddMoleculeColumnToFrame(drugs_EDA, smilesCol='SMILES', molCol='structure')


def compute_descriptors(smiles):
    mol = Chem.MolFromSmiles(smiles)
    if mol is None:
        return {
            "MolWt": None,
            "LogP": None,
            "NumHDonors": None,
            "NumHAcceptors": None,
            "TPSA": None,
            "Fingerprint": None
        }
    return {
        "MolWt": Descriptors.MolWt(mol),
        "LogP": Descriptors.MolLogP(mol),
        "NumHDonors": Lipinski.NumHDonors(mol),
        "NumHAcceptors": Lipinski.NumHAcceptors(mol),
        "TPSA": Descriptors.TPSA(mol),
        "Fingerprint": AllChem.GetMorganFingerprintAsBitVect(mol, radius=3, nBits=2048)
    }
    


# Apply to your DataFrame
descriptor_df = drugs_EDA["SMILES"].apply(compute_descriptors).apply(pd.Series)

# Merge back into the original DataFrame
drugs_EDA = pd.concat([drugs_EDA, descriptor_df], axis=1)


from rdkit import Chem
from rdkit.Chem import Draw

# Prepare molecules and names
mols = [Chem.MolFromSmiles(smiles) for smiles in SmallMolecules["SMILES"]]
names = SmallMolecules["Name"].tolist()

# Create image with names as legends
img = Draw.MolsToGridImage(
    mols,
    legends=names,
    molsPerRow=5,  # Adjust for layout, e.g. 5 columns x 7 rows
    subImgSize=(200,200)  # Size of each molecule image
)

# Show the image (in Jupyter)
from IPython.display import display
display(img)



from rdkit.DataStructs import TanimotoSimilarity

fps = SmallMolecules["Fingerprint"].tolist()
names = SmallMolecules["Name"].tolist()
n = len(fps)

# similarity matrix
sim_matrix = np.zeros((n, n))
for i in range(n):
    for j in range(n):
        sim_matrix[i, j] = TanimotoSimilarity(fps[i], fps[j])

sim_df = pd.DataFrame(sim_matrix, index=names, columns=names)


plt.figure(figsize=(20,10))
sns.heatmap(sim_df, annot=True, cmap="Blues", fmt=".2f")
plt.title("Tanimoto Similarity Between 34 Small Molecules")
plt.show()


plt.figure(figsize=(10, 5))
bars = plt.scatter(SmallMolecules["Molecular Mass"], SmallMolecules["LogP"], color='skyblue')

# Add horizontal line at 0
plt.axhline(0, color='gray', linewidth=0.8)

# Labels and title
plt.ylabel("LogP")
plt.title("LogP Values of Compounds", pad=20)
plt.xticks(rotation=45, ha='right')
plt.tight_layout()

plt.show()


plt.figure(figsize=(10, 5))
bars = plt.bar(SmallMolecules["Name"], SmallMolecules["LogP"], color='skyblue')

# Add horizontal line at 0
plt.axhline(0, color='gray', linewidth=0.8)

# Labels and title
plt.ylabel("LogP")
plt.title("LogP Values of Compounds", pad=20)
plt.xticks(rotation=45, ha='right')
plt.tight_layout()

plt.show()



drugs_EDA.head()
