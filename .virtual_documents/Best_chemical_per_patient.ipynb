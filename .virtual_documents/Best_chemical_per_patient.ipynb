





import pandas as pd
import random
valid_IC50s = pd.read_csv("valid_IC50s_within_range.csv")
merged_df = pd.read_csv("final_merged.csv")


valid_IC50s.drop(columns = ['Unnamed: 0', 'N Points'], inplace = True)


import numpy as np

# Get value counts as probabilities
race_dist = merged_df['Race'].value_counts(normalize=True)

# Get the indices where race is missing
missing_indices = merged_df['Race'].isna()

# Sample values based on observed distribution
imputed_values = np.random.choice(race_dist.index, size=missing_indices.sum(), p=race_dist.values)

# Assign the sampled values to the missing positions
merged_df.loc[missing_indices, 'Race'] = imputed_values



def T_stage_by_size(size):
    if size == 0:
        return 0
    if size > 0 and size <= 20:
        return 1
    if size > 20 and size <= 50:
        return 2
    if size > 50:
        return 3


merged_df['T_stage_by_size'] = merged_df.apply(lambda row: row['T Stage'] if pd.notnull(row['T Stage']) else T_stage_by_size(row['Tumor Size']), axis=1)


merged_df['T_stage_by_size'].isna().sum()


columns = ['Patient ID', 'Age', 'Race and Ethnicity', 'T_stage_by_size']
patients_df = merged_df[columns]


patients_df


valid_IC50s


random.seed(42)


# ASK LUCAS FOR THIS DATA
patients_df = patients_df.copy()

# Assign a random integer between 1 and 34 for each row
patients_df['cell_line'] = np.random.randint(1, 36, size=len(patients_df))


patients_df


# ASK AUSTIN FOR THIS DATA
patients_df['Race and Ethnicity'].value_counts()

# Identify missing entries
missing_mask = patients_df['Race and Ethnicity'].isna()

# Fill missing values with random integers from 1 to 7
patients_df.loc[missing_mask, 'Race and Ethnicity'] = np.random.randint(1, 8, size=missing_mask.sum())


# ASK TEAM TO HELP IMPUTE MISSING T-STAGE OR DROP THEIR ROWS 
# MAYBE ASK AUSTIN FOR SIMILAR WORKFLOW USED FOR RACE BUT FOR T-STAGE 
patients_df.isna().sum()


# Get unique cell line names
unique_cell_lines = valid_IC50s['Cell Name'].unique()

# Create a mapping from cell line name to number (1 to 34)
cell_line_map = {name: i+1 for i, name in enumerate(unique_cell_lines)}

# Preview the result
print(cell_line_map)

valid_IC50s['Cell_Name_Mapped'] = valid_IC50s['Cell Name'].map(cell_line_map)


valid_IC50s


patient_drug_df = pd.merge(patients_df, valid_IC50s, left_on='cell_line', right_on='Cell_Name_Mapped', how='inner')

# Display the merged dataframe
patient_drug_df


# Check to make sure each patient has a row per drug (At most 34 rows per patient). 
condition = (patient_drug_df['Patient ID'] == 'Breast_MRI_001') & (patient_drug_df['cell_line'] == 13)
print(patient_drug_df[condition].shape)
patient_drug_df[condition]











# Model: Recommend drugs based on ONLY patient's information:

from sklearn.ensemble import RandomForestClassifier
from sklearn.model_selection import train_test_split
from sklearn.preprocessing import StandardScaler, OrdinalEncoder
import pandas as pd

# Assuming you already have patient demographics and drug information combined
df = patient_drug_df.dropna(subset=['Age', 'Race and Ethnicity', 'cell_line', 'Small Molecule Name'])

# Encode drugs as labels (drug name -> numeric)
drug_encoder = OrdinalEncoder()
df['drug_id'] = drug_encoder.fit_transform(df[['Small Molecule Name']])

# Features (excluding drug name)
features = ['Age', 'Race and Ethnicity', 'cell_line']
target = 'drug_id'

X = df[features]
y = df[target]

# Scale the features
scaler = StandardScaler()
X_scaled = scaler.fit_transform(X)

# Train-test split
X_train, X_test, y_train, y_test = train_test_split(X_scaled, y, test_size=0.2, random_state=42)

# Train a classifier (e.g., RandomForest)
clf = RandomForestClassifier(n_estimators=100, random_state=42)
clf.fit(X_train, y_train)

# Evaluate model performance
print("Model Accuracy:", clf.score(X_test, y_test))



def recommend_multiple_drugs(patient_features, model, scaler, drug_encoder, top_n=5):
    # Standardize the input data (patient features)
    X_input = scaler.transform([patient_features])
    
    # Predict probabilities for all drugs
    prob_predictions = model.predict_proba(X_input)[0]  # Shape: (num_drugs,)
    
    # Get top N drug predictions (highest probabilities)
    top_indices = prob_predictions.argsort()[-top_n:][::-1]
    
    # Map drug IDs back to drug names using the correct shape (2D array)
    top_drugs = drug_encoder.inverse_transform(top_indices.reshape(-1, 1))  # Reshape to 2D for inverse_transform
    
    # Show recommended drugs and their probability
    recommendations = [(top_drugs[i][0], prob_predictions[top_indices[i]]) for i in range(top_n)]
    
    return recommendations



# Example input: [Age, Race, Cell Line]
new_patient_features = [45, 2, 12]  # Replace with actual patient data

recommended_drugs = recommend_multiple_drugs(new_patient_features, clf, scaler, drug_encoder, top_n=5)

print("\nTop 5 recommended drugs for the patient:")
for drug, prob in recommended_drugs:
    print(f"{drug}: {prob:.4f}")







