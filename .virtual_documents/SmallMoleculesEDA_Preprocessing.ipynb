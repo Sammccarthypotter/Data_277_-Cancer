


import pandas as pd
import numpy as np
import matplotlib.pyplot as plt
import seaborn as sns


from rdkit import Chem
from rdkit.Chem import Draw
from rdkit.Chem import AllChem
from rdkit.Chem import DataStructs
from rdkit.Chem import rdMolDescriptors
from IPython.display import display, HTML


from rdkit.Chem import Descriptors 
from rdkit.Chem import MolFromSmiles
from rdkit import Chem
from rdkit.Chem import PandasTools
PandasTools.RenderImagesInAllDataFrames(True)


from rdkit.Chem import Lipinski


import plotly.express as px


SmallMolecules = pd.read_csv("data/HarvardSmallMolecules.csv")


columns = ['Name', 'Molecular Mass', 'SMILES']
drugs_EDA = SmallMolecules[columns]


PandasTools.AddMoleculeColumnToFrame(drugs_EDA, smilesCol='SMILES', molCol='structure')


def compute_descriptors(smiles):
    mol = Chem.MolFromSmiles(smiles)
    if mol is None:
        return {
            "LogP": None,
            "NumHDonors": None,
            "NumHAcceptors": None,
            "TPSA": None,
            "Fingerprint": None}
    return {
        "LogP": Descriptors.MolLogP(mol),
        "NumHDonors": Lipinski.NumHDonors(mol),
        "NumHAcceptors": Lipinski.NumHAcceptors(mol),
        "TPSA": Descriptors.TPSA(mol),
        "Fingerprint": AllChem.GetMorganFingerprintAsBitVect(mol, radius=3, nBits=2048)}


# Apply to your DataFrame
descriptor_df = drugs_EDA["SMILES"].apply(compute_descriptors).apply(pd.Series)

# Merge back into the original DataFrame
drugs_EDA = pd.concat([drugs_EDA, descriptor_df], axis=1)


drugs_EDA


drugs_EDA[["Name","Molecular Mass", "LogP", "NumHDonors", "NumHAcceptors", "TPSA"]]


from rdkit import Chem
from rdkit.Chem import Draw

# Prepare molecules and names
mols = [Chem.MolFromSmiles(smiles) for smiles in SmallMolecules["SMILES"]]
names = SmallMolecules["Name"].tolist()

# Create image with names as legends
img = Draw.MolsToGridImage(
    mols,
    legends=names,
    molsPerRow=5,  # Adjust for layout, e.g. 5 columns x 7 rows
    subImgSize=(200,200)  # Size of each molecule image
)

# Show the image (in Jupyter)
from IPython.display import display
display(img)



from rdkit.DataStructs import TanimotoSimilarity

fps = drugs_EDA["Fingerprint"].tolist()
names = drugs_EDA["Name"].tolist()
n = len(fps)

# similarity matrix
sim_matrix = np.zeros((n, n))
for i in range(n):
    for j in range(n):
        sim_matrix[i, j] = TanimotoSimilarity(fps[i], fps[j])

sim_df = pd.DataFrame(sim_matrix, index=names, columns=names)


plt.figure(figsize=(20,10))
sns.heatmap(sim_df, annot=True, cmap="Blues", fmt=".2f")
plt.title("Structural Assessment \nTanimoto Similarity Between 34 Small Molecules")
plt.show()


drugs_EDA.columns


# Compute the correlation matrix
descriptor_cols = ['Molecular Mass', 'LogP', 'NumHDonors', 'NumHAcceptors', 'TPSA']
corr_matrix = drugs_EDA[descriptor_cols].corr()

# Plot using seaborn
plt.figure(figsize=(8, 6))
sns.heatmap(corr_matrix, annot=True, cmap="RdPu", annot_kws={"size": 15})
plt.xticks(fontsize=10)
plt.yticks(fontsize=10)
plt.title("Correlation Matrix of 5 Molecular Descriptors", fontsize=15)
plt.tight_layout()
plt.show()


# List of descriptor column names
descriptor_cols = ["Molecular Mass", "LogP", "TPSA"] # TPSA abd Hacceptors/donors tend to be correlated with one another. 

# Compute the correlation matrix
corr_matrix = drugs_EDA[descriptor_cols].corr()

# Plot using seaborn
plt.figure(figsize=(8, 6))
sns.heatmap(corr_matrix, annot=True, cmap="RdPu", annot_kws={"size": 20} )
plt.xticks(fontsize=15)
plt.yticks(fontsize=15)
plt.title("Correlation Matrix of 3 Molecular Descriptors", fontsize=15)
plt.tight_layout()
plt.show()



plt.figure(figsize=(10, 5))
bars = plt.bar(drugs_EDA["Name"], drugs_EDA["LogP"], color='skyblue')

# Add horizontal line at 0
plt.axhline(0, color='gray', linewidth=0.8)

# Labels and title
plt.ylabel("LogP")
plt.title("LogP Values of Compounds", pad=20)
plt.xticks(rotation=45, ha='right')
plt.tight_layout()

plt.show()



fig = px.scatter_3d(
    drugs_EDA,
    width=900,
    height=700,
    x="Molecular Mass",
    y="TPSA",
    z="LogP",
    color="Name",
    title="3D Projection of Molecular Descriptors",
    labels={"MolWt": "Molecular Weight", "TPSA": "TPSA", "LogP": "LogP"},
    opacity=0.7,)

fig.update_traces(marker=dict(size=5))
fig.show()


plt.figure(figsize=(10,5))
bars = sns.scatterplot(drugs_EDA, x = drugs_EDA["Molecular Mass"], y = drugs_EDA["LogP"], hue = "Name")

plt.axhline(0, color='gray', linewidth=0.8)

plt.title("LogP vs. Molwt of drugs", pad=20)
plt.xticks(rotation=45, ha='right')
plt.legend(title="Drug Name", bbox_to_anchor=(1.05, 1), loc='upper left', ncol=3)
plt.tight_layout()
plt.show()


plt.figure(figsize=(10,5))
bars = sns.scatterplot(drugs_EDA, x = drugs_EDA["TPSA"], y = drugs_EDA["LogP"], hue = "Name")

plt.axhline(0, color='gray', linewidth=0.8)

plt.title("TPSA vs. LogP of drugs", pad=20)
plt.xticks(rotation=45, ha='right')
plt.legend(title="Drug Name", bbox_to_anchor=(1.05, 1), loc='upper left', ncol=3)
plt.tight_layout()
plt.show()


plt.figure(figsize=(10,5))
bars = sns.scatterplot(drugs_EDA, x = drugs_EDA["TPSA"], y = drugs_EDA["Molecular Mass"], hue = "Name")

plt.axhline(0, color='gray', linewidth=0.8)

plt.title("TPSA vs. Molwt of drugs", pad=20)
plt.xticks(rotation=45, ha='right')
plt.legend(title="Drug Name", bbox_to_anchor=(1.05, 1), loc='upper left', ncol=3)
plt.tight_layout()
plt.show()


drugs_EDA = drugs_EDA[['Name', 'Molecular Mass', 'LogP', 'NumHDonors', 'NumHAcceptors', 'TPSA', 'structure','SMILES', 'Fingerprint']]





drugs_EDA.to_csv("Descriptors_Small_Molecules.csv")



