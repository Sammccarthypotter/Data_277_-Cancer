{
 "cells": [
  {
   "cell_type": "markdown",
   "id": "04b5a64a-8505-4d53-b29f-61f3706ff523",
   "metadata": {},
   "source": [
    "# CLASSIFICATION - Choosing the best chemical per patient"
   ]
  },
  {
   "cell_type": "code",
   "execution_count": 194,
   "id": "e535e2a4-7ef1-4504-9f02-10333ba22333",
   "metadata": {},
   "outputs": [
    {
     "name": "stderr",
     "output_type": "stream",
     "text": [
      "/var/folders/s8/ghqk1l4n7n9_w17t7hx21g2m0000gn/T/ipykernel_3149/1582840386.py:3: DtypeWarning: Columns (0,3,4,5,6,7,9,12,15,16,17,18,22,24,26,28,29,30,40,65,66,67,68,69,70,71,72,73,74,75,76,82,83,89,90,91,92,93,96,97,98,99,100,101,102,103,104,105,106,107,108,109,115) have mixed types. Specify dtype option on import or set low_memory=False.\n",
      "  merged_df = pd.read_csv(\"final_merged.csv\")\n"
     ]
    }
   ],
   "source": [
    "import pandas as pd\n",
    "valid_IC50s = pd.read_csv(\"valid_IC50s_within_range.csv\")\n",
    "merged_df = pd.read_csv(\"final_merged.csv\")"
   ]
  },
  {
   "cell_type": "code",
   "execution_count": 196,
   "id": "d90d2f94-0918-4196-8785-302ac1a9fcb9",
   "metadata": {},
   "outputs": [],
   "source": [
    "valid_IC50s.drop(columns = ['Unnamed: 0', 'N Points'], inplace = True)"
   ]
  },
  {
   "cell_type": "code",
   "execution_count": 198,
   "id": "742997c2-7f3c-4821-8b9c-c7b1504e942c",
   "metadata": {},
   "outputs": [],
   "source": [
    "import numpy as np\n",
    "\n",
    "# Get value counts as probabilities\n",
    "race_dist = merged_df['Race'].value_counts(normalize=True)\n",
    "\n",
    "# Get the indices where race is missing\n",
    "missing_indices = merged_df['Race'].isna()\n",
    "\n",
    "# Sample values based on observed distribution\n",
    "imputed_values = np.random.choice(race_dist.index, size=missing_indices.sum(), p=race_dist.values)\n",
    "\n",
    "# Assign the sampled values to the missing positions\n",
    "merged_df.loc[missing_indices, 'Race'] = imputed_values\n"
   ]
  },
  {
   "cell_type": "code",
   "execution_count": 200,
   "id": "ac5470d5-e0e1-443d-a637-1913570583b5",
   "metadata": {},
   "outputs": [],
   "source": [
    "def T_stage_by_size(size):\n",
    "    if size == 0:\n",
    "        return 0\n",
    "    if size > 0 and size <= 20:\n",
    "        return 1\n",
    "    if size > 20 and size <= 50:\n",
    "        return 2\n",
    "    if size > 50:\n",
    "        return 3"
   ]
  },
  {
   "cell_type": "code",
   "execution_count": 202,
   "id": "61170cbd-e083-448c-a626-6e772d01a2ec",
   "metadata": {},
   "outputs": [],
   "source": [
    "merged_df['T_stage_by_size'] = merged_df.apply(lambda row: row['T Stage'] if pd.notnull(row['T Stage']) else T_stage_by_size(row['Tumor Size']), axis=1)"
   ]
  },
  {
   "cell_type": "code",
   "execution_count": 204,
   "id": "4884afb2-390d-4c1d-b4df-c15b1b1c6a42",
   "metadata": {},
   "outputs": [
    {
     "data": {
      "text/plain": [
       "134"
      ]
     },
     "execution_count": 204,
     "metadata": {},
     "output_type": "execute_result"
    }
   ],
   "source": [
    "merged_df['T_stage_by_size'].isna().sum()"
   ]
  },
  {
   "cell_type": "code",
   "execution_count": 206,
   "id": "f6c57878-ae51-45d8-bc56-b1cb63e76fa2",
   "metadata": {},
   "outputs": [],
   "source": [
    "columns = ['Patient ID', 'Age', 'Race and Ethnicity', 'T_stage_by_size']\n",
    "patients_df = merged_df[columns]"
   ]
  },
  {
   "cell_type": "code",
   "execution_count": 208,
   "id": "11cc2c21-14aa-42d0-9bad-ed11352f2db0",
   "metadata": {},
   "outputs": [
    {
     "data": {
      "text/html": [
       "<div>\n",
       "<style scoped>\n",
       "    .dataframe tbody tr th:only-of-type {\n",
       "        vertical-align: middle;\n",
       "    }\n",
       "\n",
       "    .dataframe tbody tr th {\n",
       "        vertical-align: top;\n",
       "    }\n",
       "\n",
       "    .dataframe thead th {\n",
       "        text-align: right;\n",
       "    }\n",
       "</style>\n",
       "<table border=\"1\" class=\"dataframe\">\n",
       "  <thead>\n",
       "    <tr style=\"text-align: right;\">\n",
       "      <th></th>\n",
       "      <th>Patient ID</th>\n",
       "      <th>Age</th>\n",
       "      <th>Race and Ethnicity</th>\n",
       "      <th>T_stage_by_size</th>\n",
       "    </tr>\n",
       "  </thead>\n",
       "  <tbody>\n",
       "    <tr>\n",
       "      <th>0</th>\n",
       "      <td>Breast_MRI_001</td>\n",
       "      <td>41</td>\n",
       "      <td>2.0</td>\n",
       "      <td>2.0</td>\n",
       "    </tr>\n",
       "    <tr>\n",
       "      <th>1</th>\n",
       "      <td>Breast_MRI_001</td>\n",
       "      <td>41</td>\n",
       "      <td>2.0</td>\n",
       "      <td>2.0</td>\n",
       "    </tr>\n",
       "    <tr>\n",
       "      <th>2</th>\n",
       "      <td>Breast_MRI_002</td>\n",
       "      <td>38</td>\n",
       "      <td>2.0</td>\n",
       "      <td>2.0</td>\n",
       "    </tr>\n",
       "    <tr>\n",
       "      <th>3</th>\n",
       "      <td>Breast_MRI_003</td>\n",
       "      <td>62</td>\n",
       "      <td>1.0</td>\n",
       "      <td>2.0</td>\n",
       "    </tr>\n",
       "    <tr>\n",
       "      <th>4</th>\n",
       "      <td>Breast_MRI_003</td>\n",
       "      <td>62</td>\n",
       "      <td>1.0</td>\n",
       "      <td>2.0</td>\n",
       "    </tr>\n",
       "  </tbody>\n",
       "</table>\n",
       "</div>"
      ],
      "text/plain": [
       "       Patient ID  Age  Race and Ethnicity  T_stage_by_size\n",
       "0  Breast_MRI_001   41                 2.0              2.0\n",
       "1  Breast_MRI_001   41                 2.0              2.0\n",
       "2  Breast_MRI_002   38                 2.0              2.0\n",
       "3  Breast_MRI_003   62                 1.0              2.0\n",
       "4  Breast_MRI_003   62                 1.0              2.0"
      ]
     },
     "execution_count": 208,
     "metadata": {},
     "output_type": "execute_result"
    }
   ],
   "source": [
    "patients_df.head()"
   ]
  },
  {
   "cell_type": "code",
   "execution_count": 210,
   "id": "f4d64b62-4b39-4787-9357-639b28455e1a",
   "metadata": {},
   "outputs": [
    {
     "data": {
      "text/html": [
       "<div>\n",
       "<style scoped>\n",
       "    .dataframe tbody tr th:only-of-type {\n",
       "        vertical-align: middle;\n",
       "    }\n",
       "\n",
       "    .dataframe tbody tr th {\n",
       "        vertical-align: top;\n",
       "    }\n",
       "\n",
       "    .dataframe thead th {\n",
       "        text-align: right;\n",
       "    }\n",
       "</style>\n",
       "<table border=\"1\" class=\"dataframe\">\n",
       "  <thead>\n",
       "    <tr style=\"text-align: right;\">\n",
       "      <th></th>\n",
       "      <th>Cell Name</th>\n",
       "      <th>Small Molecule Name</th>\n",
       "      <th>EC50 (uM)</th>\n",
       "    </tr>\n",
       "  </thead>\n",
       "  <tbody>\n",
       "    <tr>\n",
       "      <th>0</th>\n",
       "      <td>BT-20</td>\n",
       "      <td>A-1210477</td>\n",
       "      <td>0.005488</td>\n",
       "    </tr>\n",
       "    <tr>\n",
       "      <th>1</th>\n",
       "      <td>BT-20</td>\n",
       "      <td>AZD7762</td>\n",
       "      <td>1.650602</td>\n",
       "    </tr>\n",
       "    <tr>\n",
       "      <th>2</th>\n",
       "      <td>BT-20</td>\n",
       "      <td>Bleomycin</td>\n",
       "      <td>0.754695</td>\n",
       "    </tr>\n",
       "    <tr>\n",
       "      <th>3</th>\n",
       "      <td>BT-20</td>\n",
       "      <td>Buparlisib</td>\n",
       "      <td>1.336570</td>\n",
       "    </tr>\n",
       "    <tr>\n",
       "      <th>4</th>\n",
       "      <td>BT-20</td>\n",
       "      <td>Cabozantinib</td>\n",
       "      <td>3.789538</td>\n",
       "    </tr>\n",
       "    <tr>\n",
       "      <th>...</th>\n",
       "      <td>...</td>\n",
       "      <td>...</td>\n",
       "      <td>...</td>\n",
       "    </tr>\n",
       "    <tr>\n",
       "      <th>821</th>\n",
       "      <td>T47D</td>\n",
       "      <td>Topotecan</td>\n",
       "      <td>0.006967</td>\n",
       "    </tr>\n",
       "    <tr>\n",
       "      <th>822</th>\n",
       "      <td>T47D</td>\n",
       "      <td>Torin2</td>\n",
       "      <td>0.004775</td>\n",
       "    </tr>\n",
       "    <tr>\n",
       "      <th>823</th>\n",
       "      <td>T47D</td>\n",
       "      <td>Trametinib</td>\n",
       "      <td>0.005605</td>\n",
       "    </tr>\n",
       "    <tr>\n",
       "      <th>824</th>\n",
       "      <td>T47D</td>\n",
       "      <td>Volasertib</td>\n",
       "      <td>0.033216</td>\n",
       "    </tr>\n",
       "    <tr>\n",
       "      <th>825</th>\n",
       "      <td>T47D</td>\n",
       "      <td>Vorinostat</td>\n",
       "      <td>1.888517</td>\n",
       "    </tr>\n",
       "  </tbody>\n",
       "</table>\n",
       "<p>826 rows × 3 columns</p>\n",
       "</div>"
      ],
      "text/plain": [
       "    Cell Name Small Molecule Name  EC50 (uM)\n",
       "0       BT-20           A-1210477   0.005488\n",
       "1       BT-20             AZD7762   1.650602\n",
       "2       BT-20           Bleomycin   0.754695\n",
       "3       BT-20          Buparlisib   1.336570\n",
       "4       BT-20        Cabozantinib   3.789538\n",
       "..        ...                 ...        ...\n",
       "821      T47D           Topotecan   0.006967\n",
       "822      T47D              Torin2   0.004775\n",
       "823      T47D          Trametinib   0.005605\n",
       "824      T47D          Volasertib   0.033216\n",
       "825      T47D          Vorinostat   1.888517\n",
       "\n",
       "[826 rows x 3 columns]"
      ]
     },
     "execution_count": 210,
     "metadata": {},
     "output_type": "execute_result"
    }
   ],
   "source": [
    "valid_IC50s"
   ]
  },
  {
   "cell_type": "code",
   "execution_count": 212,
   "id": "59d9ec8c-cab3-45a8-b3df-3e4403a5baf7",
   "metadata": {},
   "outputs": [],
   "source": [
    "# ASK LUCAS FOR THIS DATA\n",
    "patients_df = patients_df.copy()\n",
    "\n",
    "# Assign a random integer between 1 and 34 for each row\n",
    "patients_df['cell_line'] = np.random.randint(1, 35, size=len(patients_df))"
   ]
  },
  {
   "cell_type": "code",
   "execution_count": 214,
   "id": "edf885d8-1248-4062-a723-c78c9e3cf3de",
   "metadata": {},
   "outputs": [
    {
     "data": {
      "text/html": [
       "<div>\n",
       "<style scoped>\n",
       "    .dataframe tbody tr th:only-of-type {\n",
       "        vertical-align: middle;\n",
       "    }\n",
       "\n",
       "    .dataframe tbody tr th {\n",
       "        vertical-align: top;\n",
       "    }\n",
       "\n",
       "    .dataframe thead th {\n",
       "        text-align: right;\n",
       "    }\n",
       "</style>\n",
       "<table border=\"1\" class=\"dataframe\">\n",
       "  <thead>\n",
       "    <tr style=\"text-align: right;\">\n",
       "      <th></th>\n",
       "      <th>Patient ID</th>\n",
       "      <th>Age</th>\n",
       "      <th>Race and Ethnicity</th>\n",
       "      <th>T_stage_by_size</th>\n",
       "      <th>cell_line</th>\n",
       "    </tr>\n",
       "  </thead>\n",
       "  <tbody>\n",
       "    <tr>\n",
       "      <th>0</th>\n",
       "      <td>Breast_MRI_001</td>\n",
       "      <td>41</td>\n",
       "      <td>2.0</td>\n",
       "      <td>2.0</td>\n",
       "      <td>28</td>\n",
       "    </tr>\n",
       "    <tr>\n",
       "      <th>1</th>\n",
       "      <td>Breast_MRI_001</td>\n",
       "      <td>41</td>\n",
       "      <td>2.0</td>\n",
       "      <td>2.0</td>\n",
       "      <td>20</td>\n",
       "    </tr>\n",
       "    <tr>\n",
       "      <th>2</th>\n",
       "      <td>Breast_MRI_002</td>\n",
       "      <td>38</td>\n",
       "      <td>2.0</td>\n",
       "      <td>2.0</td>\n",
       "      <td>2</td>\n",
       "    </tr>\n",
       "    <tr>\n",
       "      <th>3</th>\n",
       "      <td>Breast_MRI_003</td>\n",
       "      <td>62</td>\n",
       "      <td>1.0</td>\n",
       "      <td>2.0</td>\n",
       "      <td>20</td>\n",
       "    </tr>\n",
       "    <tr>\n",
       "      <th>4</th>\n",
       "      <td>Breast_MRI_003</td>\n",
       "      <td>62</td>\n",
       "      <td>1.0</td>\n",
       "      <td>2.0</td>\n",
       "      <td>21</td>\n",
       "    </tr>\n",
       "    <tr>\n",
       "      <th>...</th>\n",
       "      <td>...</td>\n",
       "      <td>...</td>\n",
       "      <td>...</td>\n",
       "      <td>...</td>\n",
       "      <td>...</td>\n",
       "    </tr>\n",
       "    <tr>\n",
       "      <th>9217</th>\n",
       "      <td>NaN</td>\n",
       "      <td>69</td>\n",
       "      <td>NaN</td>\n",
       "      <td>4.0</td>\n",
       "      <td>7</td>\n",
       "    </tr>\n",
       "    <tr>\n",
       "      <th>9218</th>\n",
       "      <td>NaN</td>\n",
       "      <td>69</td>\n",
       "      <td>NaN</td>\n",
       "      <td>4.0</td>\n",
       "      <td>10</td>\n",
       "    </tr>\n",
       "    <tr>\n",
       "      <th>9219</th>\n",
       "      <td>NaN</td>\n",
       "      <td>69</td>\n",
       "      <td>NaN</td>\n",
       "      <td>4.0</td>\n",
       "      <td>29</td>\n",
       "    </tr>\n",
       "    <tr>\n",
       "      <th>9220</th>\n",
       "      <td>NaN</td>\n",
       "      <td>69</td>\n",
       "      <td>NaN</td>\n",
       "      <td>4.0</td>\n",
       "      <td>26</td>\n",
       "    </tr>\n",
       "    <tr>\n",
       "      <th>9221</th>\n",
       "      <td>NaN</td>\n",
       "      <td>69</td>\n",
       "      <td>NaN</td>\n",
       "      <td>4.0</td>\n",
       "      <td>10</td>\n",
       "    </tr>\n",
       "  </tbody>\n",
       "</table>\n",
       "<p>9222 rows × 5 columns</p>\n",
       "</div>"
      ],
      "text/plain": [
       "          Patient ID  Age  Race and Ethnicity  T_stage_by_size  cell_line\n",
       "0     Breast_MRI_001   41                 2.0              2.0         28\n",
       "1     Breast_MRI_001   41                 2.0              2.0         20\n",
       "2     Breast_MRI_002   38                 2.0              2.0          2\n",
       "3     Breast_MRI_003   62                 1.0              2.0         20\n",
       "4     Breast_MRI_003   62                 1.0              2.0         21\n",
       "...              ...  ...                 ...              ...        ...\n",
       "9217             NaN   69                 NaN              4.0          7\n",
       "9218             NaN   69                 NaN              4.0         10\n",
       "9219             NaN   69                 NaN              4.0         29\n",
       "9220             NaN   69                 NaN              4.0         26\n",
       "9221             NaN   69                 NaN              4.0         10\n",
       "\n",
       "[9222 rows x 5 columns]"
      ]
     },
     "execution_count": 214,
     "metadata": {},
     "output_type": "execute_result"
    }
   ],
   "source": [
    "patients_df"
   ]
  },
  {
   "cell_type": "code",
   "execution_count": 216,
   "id": "06ba9f8e-0047-497f-99ea-0459f61e2c16",
   "metadata": {},
   "outputs": [],
   "source": [
    "# ASK AUSTIN FOR THIS DATA\n",
    "patients_df['Race and Ethnicity'].value_counts()\n",
    "\n",
    "# Identify missing entries\n",
    "missing_mask = patients_df['Race and Ethnicity'].isna()\n",
    "\n",
    "# Fill missing values with random integers from 1 to 7\n",
    "patients_df.loc[missing_mask, 'Race and Ethnicity'] = np.random.randint(1, 8, size=missing_mask.sum())"
   ]
  },
  {
   "cell_type": "code",
   "execution_count": 222,
   "id": "0dc81657-a083-45e6-a59a-5d3c0aee01a8",
   "metadata": {},
   "outputs": [
    {
     "data": {
      "text/plain": [
       "Patient ID            1750\n",
       "Age                      0\n",
       "Race and Ethnicity       0\n",
       "T_stage_by_size        134\n",
       "cell_line                0\n",
       "dtype: int64"
      ]
     },
     "execution_count": 222,
     "metadata": {},
     "output_type": "execute_result"
    }
   ],
   "source": [
    "# ASK TEAM TO HELP IMPUTE MISSING T-STAGE OR DROP THEIR ROWS \n",
    "# MAYBE ASK AUSTIN FOR SIMILAR WORKFLOW USED FOR RACE BUT FOR T-STAGE \n",
    "patients_df.isna().sum()"
   ]
  },
  {
   "cell_type": "markdown",
   "id": "9ac40992-e698-4c64-aac7-6a43da7d54c6",
   "metadata": {},
   "source": [
    "### Each patient needs a one hot encoded version of the chemical for the cell line they represent..."
   ]
  },
  {
   "cell_type": "code",
   "execution_count": null,
   "id": "85ad29d2-bd31-49d2-a283-c05ebded83b8",
   "metadata": {},
   "outputs": [],
   "source": [
    "import pandas as pd\n",
    "from sklearn.model_selection import train_test_split\n",
    "from sklearn.preprocessing import LabelEncoder, StandardScaler\n",
    "from sklearn.ensemble import RandomForestClassifier\n",
    "from sklearn.metrics import classification_report\n",
    "\n",
    "# Step 1: Merge drug data into patient data\n",
    "df = patients_df.merge(df_drug, on='cell_line')\n",
    "\n",
    "# Step 2: For each patient, find the chemical with the lowest IC50\n",
    "df['IC50'] = df['IC50'].astype(float)\n",
    "best_chems = df.loc[df.groupby('patient_id')['IC50'].idxmin()][['patient_id', 'chemical']]\n",
    "\n",
    "# Step 3: Create the labeled dataset\n",
    "df_labeled = patients_df.merge(best_chems, on='patient_id', how='inner')\n",
    "\n",
    "# Step 4: Encode categorical variables\n",
    "le_gender = LabelEncoder()\n",
    "le_cell = LabelEncoder()\n",
    "le_chem = LabelEncoder()\n",
    "\n",
    "df_labeled['gender_enc'] = le_gender.fit_transform(df_labeled['gender'])\n",
    "df_labeled['cell_line_enc'] = le_cell.fit_transform(df_labeled['cell_line'])\n",
    "df_labeled['chemical_enc'] = le_chem.fit_transform(df_labeled['chemical'])  # Target\n",
    "\n",
    "# Step 5: Build features and target\n",
    "X = df_labeled[['age', 'gender_enc', 'cell_line_enc']]\n",
    "y = df_labeled['chemical_enc']\n",
    "\n",
    "# Optional: Standardize age\n",
    "scaler = StandardScaler()\n",
    "X['age'] = scaler.fit_transform(X[['age']])\n",
    "\n",
    "# Step 6: Train/test split\n",
    "X_train, X_test, y_train, y_test = train_test_split(X, y, test_size=0.2, random_state=42)\n",
    "\n",
    "# Step 7: Train classifier\n",
    "clf = RandomForestClassifier(n_estimators=100, random_state=42)\n",
    "clf.fit(X_train, y_train)\n",
    "\n",
    "# Step 8: Evaluate model\n",
    "y_pred = clf.predict(X_test)\n",
    "print(classification_report(y_test, y_pred, target_names=le_chem.classes_))\n"
   ]
  }
 ],
 "metadata": {
  "kernelspec": {
   "display_name": "Python 3 (ipykernel)",
   "language": "python",
   "name": "python3"
  },
  "language_info": {
   "codemirror_mode": {
    "name": "ipython",
    "version": 3
   },
   "file_extension": ".py",
   "mimetype": "text/x-python",
   "name": "python",
   "nbconvert_exporter": "python",
   "pygments_lexer": "ipython3",
   "version": "3.12.2"
  }
 },
 "nbformat": 4,
 "nbformat_minor": 5
}
