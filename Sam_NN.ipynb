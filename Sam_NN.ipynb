{
 "cells": [
  {
   "cell_type": "code",
   "execution_count": 49,
   "id": "b59aadea",
   "metadata": {},
   "outputs": [],
   "source": [
    "import pandas as pd\n",
    "import numpy as np\n",
    "from sklearn.model_selection import train_test_split\n",
    "from sklearn.preprocessing import StandardScaler\n",
    "from tensorflow.keras.models import Sequential\n",
    "from tensorflow.keras.layers import Dense, Dropout\n",
    "from tensorflow.keras.optimizers import Adam"
   ]
  },
  {
   "cell_type": "code",
   "execution_count": 50,
   "id": "7d1d0a45",
   "metadata": {},
   "outputs": [
    {
     "name": "stderr",
     "output_type": "stream",
     "text": [
      "C:\\Users\\smcca\\AppData\\Local\\Temp\\ipykernel_7436\\2039065251.py:1: DtypeWarning: Columns (5,7,12,15,16,17,18,30,65,82,83,91,92,94,95,96,97,98,99,100,101,102,103,104,105,106,107) have mixed types. Specify dtype option on import or set low_memory=False.\n",
      "  data = pd.read_csv(\"final_merged.csv\")\n"
     ]
    }
   ],
   "source": [
    "data = pd.read_csv(\"final_merged.csv\")\n",
    "numeric_data = data.select_dtypes(include=['number'])"
   ]
  },
  {
   "cell_type": "code",
   "execution_count": 51,
   "id": "2ec916a3",
   "metadata": {},
   "outputs": [
    {
     "data": {
      "text/plain": [
       "Index(['Age', 'Surgery', 'Chemotherapy', 'Cohort', 'ER',\n",
       "       'Neoplasm Histologic Grade', 'HER2', 'Histologic type',\n",
       "       'Lymph nodes examined positive', 'Mutation Count',\n",
       "       'Nottingham prognostic index', 'Overall Survival (Months)', 'PR',\n",
       "       'Radio Therapy', 'Relapse Free Status (Months)', 'Tumor Size',\n",
       "       'T Stage', 'Days to MRI (From the Date of Diagnosis)', 'Manufacturer',\n",
       "       'Manufacturer Model Name', 'Scan Options', 'Field Strength (Tesla)',\n",
       "       'Patient Position During MRI', 'Contrast Agent',\n",
       "       'Contrast Bolus Volume (mL)', 'TR (Repetition Time)', 'TE (Echo Time)',\n",
       "       'Acquisition Matrix', 'Slice Thickness ', 'Rows', 'Columns',\n",
       "       'Reconstruction Diameter ', 'Flip Angle ',\n",
       "       'FOV Computed (Field of View) in cm ', 'Date of Birth (Days)',\n",
       "       'Menopause (at diagnosis)', 'Race and Ethnicity',\n",
       "       'Metastatic at Presentation (Outside of Lymph Nodes)', 'Mol Subtype',\n",
       "       'Oncotype score', 'Staging(Tumor Size)# [T]',\n",
       "       'Staging(Nodes)#(Nx replaced by -1)[N]',\n",
       "       'Staging(Metastasis)#(Mx -replaced by -1)[M]',\n",
       "       'Tumor Grade(T) (Tubule)', 'Tumor Grade(N)(Nuclear)',\n",
       "       'Tumor Grade(M)(Mitotic)', 'Nottingham grade',\n",
       "       'Multicentric/Multifocal', 'Contralateral Breast Involvement',\n",
       "       'Lymphadenopathy or Suspicious Nodes', 'Skin/Nipple Invovlement',\n",
       "       'Pec/Chest Involvement', 'Adjuvant Radiation Therapy',\n",
       "       'Clinical Response, Evaluated Through Imaging ',\n",
       "       'Pathologic Response to Neoadjuvant Therapy', 'Recurrence event(s)',\n",
       "       'Age at last contact in EMR f/u(days)(from the date of diagnosis) ,last time patient known to be alive, unless age of death is reported(in such case the age of death',\n",
       "       'Adjuvant Chemotherapy', 'Neoadjuvant Endocrine Therapy Medications ',\n",
       "       'Adjuvant Endocrine Therapy Medications ', 'Known Ovarian Status ',\n",
       "       'Therapeutic or Prophylactic Oophorectomy as part of Endocrine Therapy ',\n",
       "       'Neoadjuvant Anti-Her2 Neu Therapy', 'Adjuvant Anti-Her2 Neu Therapy ',\n",
       "       'Received Neoadjuvant Therapy or Not',\n",
       "       'Pathologic response to Neoadjuvant therapy: Pathologic stage (T) following neoadjuvant therapy ',\n",
       "       'Pathologic response to Neoadjuvant therapy:  Pathologic stage (N) following neoadjuvant therapy',\n",
       "       'Pathologic response to Neoadjuvant therapy:  Pathologic stage (M) following neoadjuvant therapy ',\n",
       "       'Overall Near-complete Response:  Stricter Definition',\n",
       "       'Overall Near-complete Response:  Looser Definition',\n",
       "       'Near-complete Response (Graded Measure)', 'Race', 'N Stage',\n",
       "       'Regional Node Examined', 'Reginol Node Positive', 'Survival Months'],\n",
       "      dtype='object')"
      ]
     },
     "execution_count": 51,
     "metadata": {},
     "output_type": "execute_result"
    }
   ],
   "source": [
    "numeric_data.columns"
   ]
  },
  {
   "cell_type": "code",
   "execution_count": 52,
   "id": "a408de15",
   "metadata": {},
   "outputs": [],
   "source": [
    "\n",
    "\n",
    "# Load your SEER dataset (already cleaned and preprocessed)\n",
    "\n",
    "\n",
    "# Select features and target\n",
    "# 1. Define the target\n",
    "data['survival_5yr'] = (data['Survival Months'] >= 60).astype(int)\n",
    "\n",
    "# 2. Drop target columns from features\n",
    "excluded = ['Survival Months', 'Vital Status', 'survival_5yr','Unnamed: 3']\n",
    "numeric_data = data.select_dtypes(include=['number'])\n",
    "#features = [col for col in numeric_data.columns if col not in excluded]\n",
    "features = numeric_data[['Age', 'Tumor Size', 'Regional Node Examined',\n",
    "       'Reginol Node Positive']]\n",
    "\n"
   ]
  },
  {
   "cell_type": "code",
   "execution_count": 81,
   "id": "485e0d14",
   "metadata": {},
   "outputs": [],
   "source": [
    "features = ['Age', 'Tumor Size', 'Regional Node Examined','Reginol Node Positive','N Stage','Radio Therapy','Race','Menopause (at diagnosis)','Chemotherapy']"
   ]
  },
  {
   "cell_type": "code",
   "execution_count": 82,
   "id": "db74b277",
   "metadata": {},
   "outputs": [
    {
     "name": "stdout",
     "output_type": "stream",
     "text": [
      "Epoch 1/30\n"
     ]
    },
    {
     "name": "stderr",
     "output_type": "stream",
     "text": [
      "c:\\Users\\smcca\\anaconda3\\Lib\\site-packages\\keras\\src\\layers\\core\\dense.py:87: UserWarning: Do not pass an `input_shape`/`input_dim` argument to a layer. When using Sequential models, prefer using an `Input(shape)` object as the first layer in the model instead.\n",
      "  super().__init__(activity_regularizer=activity_regularizer, **kwargs)\n"
     ]
    },
    {
     "name": "stdout",
     "output_type": "stream",
     "text": [
      "\u001b[1m96/96\u001b[0m \u001b[32m━━━━━━━━━━━━━━━━━━━━\u001b[0m\u001b[37m\u001b[0m \u001b[1m1s\u001b[0m 4ms/step - accuracy: 0.7396 - loss: 0.5952 - val_accuracy: 0.7331 - val_loss: 0.5823\n",
      "Epoch 2/30\n",
      "\u001b[1m96/96\u001b[0m \u001b[32m━━━━━━━━━━━━━━━━━━━━\u001b[0m\u001b[37m\u001b[0m \u001b[1m0s\u001b[0m 2ms/step - accuracy: 0.7378 - loss: 0.5791 - val_accuracy: 0.7331 - val_loss: 0.5824\n",
      "Epoch 3/30\n",
      "\u001b[1m96/96\u001b[0m \u001b[32m━━━━━━━━━━━━━━━━━━━━\u001b[0m\u001b[37m\u001b[0m \u001b[1m0s\u001b[0m 3ms/step - accuracy: 0.7405 - loss: 0.5879 - val_accuracy: 0.7331 - val_loss: 0.5820\n",
      "Epoch 4/30\n",
      "\u001b[1m96/96\u001b[0m \u001b[32m━━━━━━━━━━━━━━━━━━━━\u001b[0m\u001b[37m\u001b[0m \u001b[1m0s\u001b[0m 2ms/step - accuracy: 0.7424 - loss: 0.5725 - val_accuracy: 0.7331 - val_loss: 0.5797\n",
      "Epoch 5/30\n",
      "\u001b[1m96/96\u001b[0m \u001b[32m━━━━━━━━━━━━━━━━━━━━\u001b[0m\u001b[37m\u001b[0m \u001b[1m0s\u001b[0m 2ms/step - accuracy: 0.7395 - loss: 0.5761 - val_accuracy: 0.7331 - val_loss: 0.5789\n",
      "Epoch 6/30\n",
      "\u001b[1m96/96\u001b[0m \u001b[32m━━━━━━━━━━━━━━━━━━━━\u001b[0m\u001b[37m\u001b[0m \u001b[1m0s\u001b[0m 2ms/step - accuracy: 0.7415 - loss: 0.5751 - val_accuracy: 0.7331 - val_loss: 0.5782\n",
      "Epoch 7/30\n",
      "\u001b[1m96/96\u001b[0m \u001b[32m━━━━━━━━━━━━━━━━━━━━\u001b[0m\u001b[37m\u001b[0m \u001b[1m0s\u001b[0m 2ms/step - accuracy: 0.7360 - loss: 0.5757 - val_accuracy: 0.7331 - val_loss: 0.5776\n",
      "Epoch 8/30\n",
      "\u001b[1m96/96\u001b[0m \u001b[32m━━━━━━━━━━━━━━━━━━━━\u001b[0m\u001b[37m\u001b[0m \u001b[1m0s\u001b[0m 2ms/step - accuracy: 0.7388 - loss: 0.5753 - val_accuracy: 0.7331 - val_loss: 0.5774\n",
      "Epoch 9/30\n",
      "\u001b[1m96/96\u001b[0m \u001b[32m━━━━━━━━━━━━━━━━━━━━\u001b[0m\u001b[37m\u001b[0m \u001b[1m0s\u001b[0m 2ms/step - accuracy: 0.7451 - loss: 0.5656 - val_accuracy: 0.7331 - val_loss: 0.5769\n",
      "Epoch 10/30\n",
      "\u001b[1m96/96\u001b[0m \u001b[32m━━━━━━━━━━━━━━━━━━━━\u001b[0m\u001b[37m\u001b[0m \u001b[1m0s\u001b[0m 2ms/step - accuracy: 0.7389 - loss: 0.5714 - val_accuracy: 0.7331 - val_loss: 0.5769\n",
      "Epoch 11/30\n",
      "\u001b[1m96/96\u001b[0m \u001b[32m━━━━━━━━━━━━━━━━━━━━\u001b[0m\u001b[37m\u001b[0m \u001b[1m0s\u001b[0m 2ms/step - accuracy: 0.7432 - loss: 0.5684 - val_accuracy: 0.7331 - val_loss: 0.5769\n",
      "Epoch 12/30\n",
      "\u001b[1m96/96\u001b[0m \u001b[32m━━━━━━━━━━━━━━━━━━━━\u001b[0m\u001b[37m\u001b[0m \u001b[1m0s\u001b[0m 3ms/step - accuracy: 0.7294 - loss: 0.5828 - val_accuracy: 0.7331 - val_loss: 0.5772\n",
      "Epoch 13/30\n",
      "\u001b[1m96/96\u001b[0m \u001b[32m━━━━━━━━━━━━━━━━━━━━\u001b[0m\u001b[37m\u001b[0m \u001b[1m0s\u001b[0m 2ms/step - accuracy: 0.7482 - loss: 0.5617 - val_accuracy: 0.7331 - val_loss: 0.5775\n",
      "Epoch 14/30\n",
      "\u001b[1m96/96\u001b[0m \u001b[32m━━━━━━━━━━━━━━━━━━━━\u001b[0m\u001b[37m\u001b[0m \u001b[1m0s\u001b[0m 3ms/step - accuracy: 0.7267 - loss: 0.5827 - val_accuracy: 0.7331 - val_loss: 0.5766\n",
      "Epoch 15/30\n",
      "\u001b[1m96/96\u001b[0m \u001b[32m━━━━━━━━━━━━━━━━━━━━\u001b[0m\u001b[37m\u001b[0m \u001b[1m0s\u001b[0m 2ms/step - accuracy: 0.7365 - loss: 0.5742 - val_accuracy: 0.7331 - val_loss: 0.5769\n",
      "Epoch 16/30\n",
      "\u001b[1m96/96\u001b[0m \u001b[32m━━━━━━━━━━━━━━━━━━━━\u001b[0m\u001b[37m\u001b[0m \u001b[1m0s\u001b[0m 2ms/step - accuracy: 0.7303 - loss: 0.5780 - val_accuracy: 0.7331 - val_loss: 0.5769\n",
      "Epoch 17/30\n",
      "\u001b[1m96/96\u001b[0m \u001b[32m━━━━━━━━━━━━━━━━━━━━\u001b[0m\u001b[37m\u001b[0m \u001b[1m0s\u001b[0m 3ms/step - accuracy: 0.7249 - loss: 0.5829 - val_accuracy: 0.7331 - val_loss: 0.5774\n",
      "Epoch 18/30\n",
      "\u001b[1m96/96\u001b[0m \u001b[32m━━━━━━━━━━━━━━━━━━━━\u001b[0m\u001b[37m\u001b[0m \u001b[1m0s\u001b[0m 2ms/step - accuracy: 0.7357 - loss: 0.5769 - val_accuracy: 0.7331 - val_loss: 0.5762\n",
      "Epoch 19/30\n",
      "\u001b[1m96/96\u001b[0m \u001b[32m━━━━━━━━━━━━━━━━━━━━\u001b[0m\u001b[37m\u001b[0m \u001b[1m0s\u001b[0m 2ms/step - accuracy: 0.7305 - loss: 0.5771 - val_accuracy: 0.7331 - val_loss: 0.5759\n",
      "Epoch 20/30\n",
      "\u001b[1m96/96\u001b[0m \u001b[32m━━━━━━━━━━━━━━━━━━━━\u001b[0m\u001b[37m\u001b[0m \u001b[1m0s\u001b[0m 2ms/step - accuracy: 0.7387 - loss: 0.5669 - val_accuracy: 0.7331 - val_loss: 0.5753\n",
      "Epoch 21/30\n",
      "\u001b[1m96/96\u001b[0m \u001b[32m━━━━━━━━━━━━━━━━━━━━\u001b[0m\u001b[37m\u001b[0m \u001b[1m0s\u001b[0m 2ms/step - accuracy: 0.7518 - loss: 0.5577 - val_accuracy: 0.7331 - val_loss: 0.5749\n",
      "Epoch 22/30\n",
      "\u001b[1m96/96\u001b[0m \u001b[32m━━━━━━━━━━━━━━━━━━━━\u001b[0m\u001b[37m\u001b[0m \u001b[1m0s\u001b[0m 2ms/step - accuracy: 0.7324 - loss: 0.5772 - val_accuracy: 0.7331 - val_loss: 0.5755\n",
      "Epoch 23/30\n",
      "\u001b[1m96/96\u001b[0m \u001b[32m━━━━━━━━━━━━━━━━━━━━\u001b[0m\u001b[37m\u001b[0m \u001b[1m0s\u001b[0m 2ms/step - accuracy: 0.7549 - loss: 0.5526 - val_accuracy: 0.7331 - val_loss: 0.5761\n",
      "Epoch 24/30\n",
      "\u001b[1m96/96\u001b[0m \u001b[32m━━━━━━━━━━━━━━━━━━━━\u001b[0m\u001b[37m\u001b[0m \u001b[1m0s\u001b[0m 2ms/step - accuracy: 0.7470 - loss: 0.5593 - val_accuracy: 0.7331 - val_loss: 0.5747\n",
      "Epoch 25/30\n",
      "\u001b[1m96/96\u001b[0m \u001b[32m━━━━━━━━━━━━━━━━━━━━\u001b[0m\u001b[37m\u001b[0m \u001b[1m0s\u001b[0m 2ms/step - accuracy: 0.7243 - loss: 0.5845 - val_accuracy: 0.7331 - val_loss: 0.5743\n",
      "Epoch 26/30\n",
      "\u001b[1m96/96\u001b[0m \u001b[32m━━━━━━━━━━━━━━━━━━━━\u001b[0m\u001b[37m\u001b[0m \u001b[1m0s\u001b[0m 3ms/step - accuracy: 0.7443 - loss: 0.5623 - val_accuracy: 0.7331 - val_loss: 0.5749\n",
      "Epoch 27/30\n",
      "\u001b[1m96/96\u001b[0m \u001b[32m━━━━━━━━━━━━━━━━━━━━\u001b[0m\u001b[37m\u001b[0m \u001b[1m0s\u001b[0m 2ms/step - accuracy: 0.7392 - loss: 0.5678 - val_accuracy: 0.7331 - val_loss: 0.5744\n",
      "Epoch 28/30\n",
      "\u001b[1m96/96\u001b[0m \u001b[32m━━━━━━━━━━━━━━━━━━━━\u001b[0m\u001b[37m\u001b[0m \u001b[1m0s\u001b[0m 2ms/step - accuracy: 0.7301 - loss: 0.5755 - val_accuracy: 0.7331 - val_loss: 0.5742\n",
      "Epoch 29/30\n",
      "\u001b[1m96/96\u001b[0m \u001b[32m━━━━━━━━━━━━━━━━━━━━\u001b[0m\u001b[37m\u001b[0m \u001b[1m0s\u001b[0m 2ms/step - accuracy: 0.7464 - loss: 0.5583 - val_accuracy: 0.7331 - val_loss: 0.5738\n",
      "Epoch 30/30\n",
      "\u001b[1m96/96\u001b[0m \u001b[32m━━━━━━━━━━━━━━━━━━━━\u001b[0m\u001b[37m\u001b[0m \u001b[1m0s\u001b[0m 2ms/step - accuracy: 0.7481 - loss: 0.5574 - val_accuracy: 0.7331 - val_loss: 0.5742\n",
      "\u001b[1m27/27\u001b[0m \u001b[32m━━━━━━━━━━━━━━━━━━━━\u001b[0m\u001b[37m\u001b[0m \u001b[1m0s\u001b[0m 2ms/step - accuracy: 0.7296 - loss: 0.5767 \n",
      "Test accuracy: 0.73\n"
     ]
    }
   ],
   "source": [
    "# Use the DataFrame version of X\n",
    "X_df = data[features].copy()  # Keep as DataFrame, not .values\n",
    "\n",
    "# Add target column to form a combined DataFrame\n",
    "X_df['survival_5yr'] = data['survival_5yr']\n",
    "\n",
    "# Drop rows with any NaN values\n",
    "cleaned = X_df.dropna()\n",
    "\n",
    "# Separate back into X and y\n",
    "X = cleaned.drop(columns='survival_5yr').values\n",
    "y = cleaned['survival_5yr'].values\n",
    "\n",
    "# Normalize features\n",
    "scaler = StandardScaler()\n",
    "X_scaled = scaler.fit_transform(X)\n",
    "\n",
    "# Train/test split\n",
    "X_train, X_test, y_train, y_test = train_test_split(X_scaled, y, test_size=0.2, random_state=42)\n",
    "\n",
    "\n",
    "# Build neural network\n",
    "model = Sequential()\n",
    "model.add(Dense(32, input_dim=X.shape[1], activation='relu'))\n",
    "model.add(Dropout(0.2))\n",
    "model.add(Dense(16, activation='relu'))\n",
    "model.add(Dense(1, activation='sigmoid'))  # Binary output\n",
    "\n",
    "# Compile\n",
    "model.compile(optimizer=Adam(learning_rate=0.001), loss='binary_crossentropy', metrics=['accuracy'])\n",
    "\n",
    "# Train\n",
    "model.fit(X_train, y_train, epochs=30, batch_size=32, validation_split=0.1)\n",
    "\n",
    "# Evaluate\n",
    "loss, accuracy = model.evaluate(X_test, y_test)\n",
    "print(f\"Test accuracy: {accuracy:.2f}\")\n"
   ]
  },
  {
   "cell_type": "code",
   "execution_count": null,
   "id": "6ec333f6",
   "metadata": {},
   "outputs": [],
   "source": []
  }
 ],
 "metadata": {
  "kernelspec": {
   "display_name": "base",
   "language": "python",
   "name": "python3"
  },
  "language_info": {
   "codemirror_mode": {
    "name": "ipython",
    "version": 3
   },
   "file_extension": ".py",
   "mimetype": "text/x-python",
   "name": "python",
   "nbconvert_exporter": "python",
   "pygments_lexer": "ipython3",
   "version": "3.12.7"
  }
 },
 "nbformat": 4,
 "nbformat_minor": 5
}
