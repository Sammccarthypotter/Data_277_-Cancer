{
 "cells": [
  {
   "cell_type": "markdown",
   "id": "375f6cb7",
   "metadata": {},
   "source": [
    "# Data 277B Spring 2025 Project"
   ]
  },
  {
   "cell_type": "markdown",
   "id": "feb5c42b",
   "metadata": {},
   "source": [
    "## 1. Load Data and Begin Data Exploration"
   ]
  },
  {
   "cell_type": "markdown",
   "id": "b959caa2",
   "metadata": {},
   "source": [
    "### Harvard Data Set"
   ]
  },
  {
   "cell_type": "markdown",
   "id": "a25089a6",
   "metadata": {},
   "source": [
    "### Duke Data Set"
   ]
  },
  {
   "cell_type": "markdown",
   "id": "a174a910",
   "metadata": {},
   "source": [
    "### MetaBrick"
   ]
  },
  {
   "cell_type": "markdown",
   "id": "8effea68",
   "metadata": {},
   "source": [
    "### SEER Breast Cancer Data Set"
   ]
  }
 ],
 "metadata": {
  "language_info": {
   "name": "python"
  }
 },
 "nbformat": 4,
 "nbformat_minor": 5
}
